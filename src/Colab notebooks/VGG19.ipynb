{
 "cells": [
  {
   "cell_type": "code",
   "execution_count": 1,
   "id": "WpMYORYBJRGt",
   "metadata": {
    "colab": {
     "base_uri": "https://localhost:8080/"
    },
    "id": "WpMYORYBJRGt",
    "outputId": "dd13694c-dafe-4eb4-b02d-1f39c4525c7c"
   },
   "outputs": [
    {
     "name": "stdout",
     "output_type": "stream",
     "text": [
      "Mounted at /content/drive\n"
     ]
    }
   ],
   "source": [
    "from google.colab import drive\n",
    "\n",
    "drive.mount(\"/content/drive\")"
   ]
  },
  {
   "cell_type": "code",
   "execution_count": 2,
   "id": "e5ea7c32",
   "metadata": {
    "id": "e5ea7c32"
   },
   "outputs": [],
   "source": [
    "import torch\n",
    "import torch.nn as nn\n",
    "import torch.optim as optim\n",
    "import matplotlib.pyplot as pyplot\n",
    "import torchvision.models as models"
   ]
  },
  {
   "cell_type": "code",
   "execution_count": 15,
   "id": "mxxO4LUcyj2z",
   "metadata": {
    "id": "mxxO4LUcyj2z"
   },
   "outputs": [],
   "source": [
    "from PIL import Image\n",
    "from pathlib import Path\n",
    "from typing import Tuple\n",
    "from torchvision import transforms\n",
    "from torch.utils.data import DataLoader\n",
    "from torchvision.datasets import ImageFolder\n",
    "from sklearn.metrics import confusion_matrix, ConfusionMatrixDisplay"
   ]
  },
  {
   "cell_type": "code",
   "execution_count": 4,
   "id": "SgJqpZ8UuYhs",
   "metadata": {
    "id": "SgJqpZ8UuYhs"
   },
   "outputs": [],
   "source": [
    "device = \"cuda\" if torch.cuda.is_available() else \"cpu\""
   ]
  },
  {
   "cell_type": "code",
   "execution_count": 5,
   "id": "zx-nUvC6uVM3",
   "metadata": {
    "id": "zx-nUvC6uVM3"
   },
   "outputs": [],
   "source": [
    "test_data_path = Path(\"/content/drive/MyDrive/Dataset/Testing\")\n",
    "train_data_path = Path(\"/content/drive/MyDrive/Dataset/Training\")\n",
    "model_path = Path(\"/content/drive/MyDrive/Models/vgg19_transfer.pth\")"
   ]
  },
  {
   "cell_type": "code",
   "execution_count": 6,
   "id": "6VKxs7Fjucwb",
   "metadata": {
    "id": "6VKxs7Fjucwb"
   },
   "outputs": [],
   "source": [
    "image_transform = transforms.Compose(\n",
    "    [\n",
    "        transforms.Resize([224, 224]),\n",
    "        transforms.ToTensor(),\n",
    "        transforms.Normalize(\n",
    "            mean=[0.1855, 0.1855, 0.1855], std=[0.2003, 0.2003, 0.2004]\n",
    "        ),\n",
    "    ]\n",
    ")"
   ]
  },
  {
   "cell_type": "code",
   "execution_count": 7,
   "id": "FcYhx2n5y7HU",
   "metadata": {
    "id": "FcYhx2n5y7HU"
   },
   "outputs": [],
   "source": [
    "train_data = ImageFolder(train_data_path, transform=image_transform)\n",
    "train_loader = DataLoader(train_data, batch_size=16, shuffle=True)\n",
    "\n",
    "test_data = ImageFolder(test_data_path, transform=image_transform)\n",
    "test_loader = DataLoader(test_data, batch_size=16, shuffle=False)"
   ]
  },
  {
   "cell_type": "code",
   "execution_count": 8,
   "id": "HURdeAhyvFbu",
   "metadata": {
    "id": "HURdeAhyvFbu"
   },
   "outputs": [],
   "source": [
    "NUM_CLASSES = len(train_data.classes)"
   ]
  },
  {
   "cell_type": "code",
   "execution_count": 9,
   "id": "42ohlnug_WQA",
   "metadata": {
    "id": "42ohlnug_WQA"
   },
   "outputs": [],
   "source": [
    "class VGG19(nn.Module):\n",
    "    def __init__(self, original_vgg19_model):\n",
    "        super(VGG19, self).__init__()\n",
    "\n",
    "        self.original_vgg19_model = original_vgg19_model\n",
    "        self.features = self.original_vgg19_model.features\n",
    "        self.classifier = self.original_vgg19_model.classifier\n",
    "        self.switch_indices = [0] * len(self.features)\n",
    "\n",
    "        for layer in self.features:\n",
    "            if isinstance(layer, nn.MaxPool2d):\n",
    "                layer.return_indices = True\n",
    "            if isinstance(layer, nn.ReLU):\n",
    "                layer.inplace = True\n",
    "\n",
    "        in_features = self.classifier[-1].in_features\n",
    "        final_classifier_layer = len(self.classifier) - 1\n",
    "\n",
    "        self.classifier[final_classifier_layer] = nn.Linear(4096, NUM_CLASSES)\n",
    "\n",
    "    def forward(self, batch: torch.Tensor):\n",
    "        for i, layer in enumerate(self.features):\n",
    "            if isinstance(layer, nn.MaxPool2d):\n",
    "                batch, indices = layer(batch)\n",
    "                self.switch_indices[i] = indices\n",
    "            else:\n",
    "                batch = layer(batch)\n",
    "\n",
    "        batch = batch.view(batch.size(0), -1)\n",
    "        batch_probabilities = self.classifier(batch)\n",
    "\n",
    "        return batch_probabilities"
   ]
  },
  {
   "cell_type": "code",
   "execution_count": 10,
   "id": "ONNgKdH__4Dx",
   "metadata": {
    "colab": {
     "base_uri": "https://localhost:8080/"
    },
    "id": "ONNgKdH__4Dx",
    "outputId": "bba4c59a-c8ae-4b75-8d9f-8c6b782e2aa3"
   },
   "outputs": [
    {
     "name": "stderr",
     "output_type": "stream",
     "text": [
      "Downloading: \"https://download.pytorch.org/models/vgg19-dcbb9e9d.pth\" to /root/.cache/torch/hub/checkpoints/vgg19-dcbb9e9d.pth\n",
      "100%|██████████| 548M/548M [00:09<00:00, 60.4MB/s]\n"
     ]
    }
   ],
   "source": [
    "original_vgg19_model = models.vgg19(weights=\"VGG19_Weights.DEFAULT\")\n",
    "vgg19 = VGG19(original_vgg19_model).to(device)\n",
    "\n",
    "loss_fn = nn.CrossEntropyLoss()\n",
    "optimizer = optim.SGD(vgg19.parameters(), lr=0.001)"
   ]
  },
  {
   "cell_type": "code",
   "execution_count": 11,
   "id": "UI5jpZis9BvU",
   "metadata": {
    "id": "UI5jpZis9BvU"
   },
   "outputs": [],
   "source": [
    "def train_model(model, num_epochs, train_loader, optimizer, loss_fn):\n",
    "    for epoch in range(num_epochs):\n",
    "        model.train()\n",
    "\n",
    "        correct_predictions = 0\n",
    "        total_samples = 0\n",
    "\n",
    "        for _, (images, labels) in enumerate(train_loader):\n",
    "            images, labels = images.to(device), labels.to(device)\n",
    "\n",
    "            optimizer.zero_grad()\n",
    "            batch_probabilities = model(images)\n",
    "            loss = loss_fn(batch_probabilities, labels)\n",
    "            loss.backward()\n",
    "\n",
    "            optimizer.step()\n",
    "\n",
    "            _, predicted_labels = torch.max(batch_probabilities, 1)\n",
    "            correct_predictions += (predicted_labels == labels).sum().item()\n",
    "            total_samples += predicted_labels.size(0)\n",
    "\n",
    "        train_accuracy = correct_predictions / total_samples\n",
    "        print(f\"Epoch: {epoch + 1} Train accuracy: {train_accuracy}\")"
   ]
  },
  {
   "cell_type": "code",
   "execution_count": 16,
   "id": "6mpPq62dZWN1",
   "metadata": {
    "id": "6mpPq62dZWN1"
   },
   "outputs": [],
   "source": [
    "@torch.no_grad()\n",
    "def test_model(model, test_loader):\n",
    "    model.eval()\n",
    "\n",
    "    correct_predictions = 0\n",
    "    total_samples = 0\n",
    "\n",
    "    all_labels = []\n",
    "    all_predictions = []\n",
    "\n",
    "    for inputs, labels in test_loader:\n",
    "        inputs, labels = inputs.to(device), labels.to(device)\n",
    "        outputs = model(inputs)\n",
    "        _, predicted = torch.max(outputs, 1)\n",
    "\n",
    "        all_labels.extend(labels.cpu().numpy())\n",
    "        all_predictions.extend(predicted.cpu().numpy())\n",
    "\n",
    "        total_samples += labels.size(0)\n",
    "        correct_predictions += (predicted == labels).sum().item()\n",
    "\n",
    "    accuracy = correct_predictions / total_samples\n",
    "    print(f\"Accuracy: {accuracy:.2%}\")\n",
    "\n",
    "    cm = confusion_matrix(all_labels, all_predictions)\n",
    "    ConfusionMatrixDisplay(cm).plot()"
   ]
  },
  {
   "cell_type": "code",
   "execution_count": 13,
   "id": "W7C79egNCXSy",
   "metadata": {
    "colab": {
     "base_uri": "https://localhost:8080/"
    },
    "id": "W7C79egNCXSy",
    "outputId": "04f05fa1-c9ac-4479-d934-6ac4444061fd"
   },
   "outputs": [
    {
     "name": "stdout",
     "output_type": "stream",
     "text": [
      "Epoch: 1 Train accuracy: 0.7993697478991597\n",
      "Epoch: 2 Train accuracy: 0.9089635854341737\n",
      "Epoch: 3 Train accuracy: 0.9389005602240896\n",
      "Epoch: 4 Train accuracy: 0.9548319327731093\n",
      "Epoch: 5 Train accuracy: 0.9698879551820728\n",
      "Epoch: 6 Train accuracy: 0.9784663865546218\n",
      "Epoch: 7 Train accuracy: 0.9840686274509803\n",
      "Epoch: 8 Train accuracy: 0.9903711484593838\n",
      "Epoch: 9 Train accuracy: 0.9921218487394958\n",
      "Epoch: 10 Train accuracy: 0.9938725490196079\n"
     ]
    }
   ],
   "source": [
    "train_model(vgg19, 10, train_loader, optimizer, loss_fn)"
   ]
  },
  {
   "cell_type": "code",
   "execution_count": 17,
   "id": "0lOZ41owZQjh",
   "metadata": {
    "colab": {
     "base_uri": "https://localhost:8080/",
     "height": 467
    },
    "id": "0lOZ41owZQjh",
    "outputId": "349af025-1d93-4d5f-cd02-54216b6b6ef4"
   },
   "outputs": [
    {
     "name": "stdout",
     "output_type": "stream",
     "text": [
      "Accuracy: 97.73%\n"
     ]
    },
    {
     "data": {
      "image/png": "[encoded data removed]",
      "text/plain": [
       "<Figure size 640x480 with 2 Axes>"
      ]
     },
     "metadata": {},
     "output_type": "display_data"
    }
   ],
   "source": [
    "test_model(vgg19, test_loader)"
   ]
  },
  {
   "cell_type": "code",
   "execution_count": 18,
   "id": "nsf4SpLUqFo7",
   "metadata": {
    "id": "nsf4SpLUqFo7"
   },
   "outputs": [],
   "source": [
    "torch.save(vgg19.state_dict(), model_path)"
   ]
  }
 ],
 "metadata": {
  "accelerator": "GPU",
  "colab": {
   "gpuType": "T4",
   "provenance": []
  },
  "kernelspec": {
   "display_name": "Python 3",
   "name": "python3"
  },
  "language_info": {
   "codemirror_mode": {
    "name": "ipython",
    "version": 3
   },
   "file_extension": ".py",
   "mimetype": "text/x-python",
   "name": "python",
   "nbconvert_exporter": "python",
   "pygments_lexer": "ipython3",
   "version": "3.11.3"
  }
 },
 "nbformat": 4,
 "nbformat_minor": 5
}