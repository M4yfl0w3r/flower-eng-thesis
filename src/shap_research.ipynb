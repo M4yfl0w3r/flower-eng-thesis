{
 "cells": [
  {
   "cell_type": "code",
   "execution_count": 273,
   "metadata": {},
   "outputs": [],
   "source": [
    "import shap\n",
    "import torch\n",
    "import random\n",
    "import numpy as np\n",
    "import matplotlib.pyplot as pl\n",
    "import torchvision.models as models"
   ]
  },
  {
   "cell_type": "code",
   "execution_count": 274,
   "metadata": {},
   "outputs": [],
   "source": [
    "from PIL import Image\n",
    "from pathlib import Path\n",
    "from torchvision import transforms\n",
    "from torch.utils.data import DataLoader, Dataset\n",
    "from torchvision.datasets import ImageFolder"
   ]
  },
  {
   "cell_type": "code",
   "execution_count": 275,
   "metadata": {},
   "outputs": [],
   "source": [
    "from Models.CNN_model import CNN\n",
    "from Models.VGG19_model import VGG19"
   ]
  },
  {
   "cell_type": "code",
   "execution_count": 276,
   "metadata": {},
   "outputs": [],
   "source": [
    "device = torch.device('cuda' if torch.cuda.is_available() else 'cpu')"
   ]
  },
  {
   "cell_type": "code",
   "execution_count": 277,
   "metadata": {},
   "outputs": [
    {
     "data": {
      "text/plain": [
       "<All keys matched successfully>"
      ]
     },
     "execution_count": 277,
     "metadata": {},
     "output_type": "execute_result"
    }
   ],
   "source": [
    "cnn = CNN()\n",
    "cnn.load_state_dict(torch.load('../assets/cnn_model.pth', map_location = device))\n",
    "\n",
    "original_vgg19_model = models.vgg19(weights = 'VGG19_Weights.DEFAULT')\n",
    "vgg = VGG19(original_vgg19_model)\n",
    "vgg.load_state_dict(torch.load('../assets/vgg19_transfer.pth', map_location = device))"
   ]
  },
  {
   "cell_type": "code",
   "execution_count": 278,
   "metadata": {},
   "outputs": [],
   "source": [
    "image_path = list(Path('../assets/Dataset/Testing/').glob('*/*.jpg'))\n",
    "test_data_path  = Path('../assets/Dataset/Testing')"
   ]
  },
  {
   "cell_type": "code",
   "execution_count": 279,
   "metadata": {},
   "outputs": [],
   "source": [
    "def choose_random_image(image_path: Path):\n",
    "    image_path = random.choice(image_path)\n",
    "    image_class = image_path.parent.stem\n",
    "\n",
    "    image = Image.open(image_path)\n",
    "    image = image.convert('RGB')\n",
    "    image = image.resize((224, 224))\n",
    "\n",
    "    pl.rcParams.update({'font.size': 13})\n",
    "    pl.figure(figsize = (6, 6))\n",
    "    pl.imshow(image)\n",
    "    pl.title(f'{image_class}')\n",
    "    pl.axis('off')\n",
    "    pl.show()\n",
    "\n",
    "    return image, image_class"
   ]
  },
  {
   "cell_type": "code",
   "execution_count": 280,
   "metadata": {},
   "outputs": [],
   "source": [
    "image_transform = transforms.Compose([\n",
    "  transforms.Resize((224, 224)),\n",
    "  transforms.ToTensor(),\n",
    "])\n",
    "\n",
    "test_data   = ImageFolder(test_data_path, transform = image_transform)\n",
    "test_loader = DataLoader(test_data, batch_size = 16, shuffle = False)"
   ]
  },
  {
   "cell_type": "code",
   "execution_count": 281,
   "metadata": {},
   "outputs": [],
   "source": [
    "def prepare_image(path):\n",
    "  image_to_explain = Image.open(path)\n",
    "  image_to_explain = image_to_explain.convert('RGB')\n",
    "  image_to_explain = image_to_explain.resize((224, 224))\n",
    "  image_to_explain = image_transform(image_to_explain)\n",
    "  image_to_explain = image_to_explain.unsqueeze(0)\n",
    "  image_to_explain = image_to_explain.to(device)\n",
    "\n",
    "  return image_to_explain"
   ]
  },
  {
   "cell_type": "code",
   "execution_count": 282,
   "metadata": {},
   "outputs": [],
   "source": [
    "classes: dict[int, str] = { 0 : 'glioma', \n",
    "                            1 : 'meningioma', \n",
    "                            2 : 'notumor', \n",
    "                            3 : 'pituitary' }"
   ]
  },
  {
   "cell_type": "code",
   "execution_count": 283,
   "metadata": {},
   "outputs": [],
   "source": [
    "def get_model_prediction(model, path) -> int:\n",
    "  transform = transforms.Compose([\n",
    "    transforms.Resize((224, 224)),\n",
    "    transforms.ToTensor(),\n",
    "    transforms.Normalize(mean = [0.1855, 0.1855, 0.1855], std = [0.2003, 0.2003, 0.2004])\n",
    "  ])\n",
    "\n",
    "  image = Image.open(path)\n",
    "  image = image.convert('RGB')\n",
    "  image = image.resize((224, 224))\n",
    "  input_tensor = transform(image)\n",
    "  input_batch = input_tensor.unsqueeze(0)\n",
    "  cnn.eval()\n",
    "\n",
    "  with torch.no_grad():\n",
    "      output = model(input_batch)\n",
    "\n",
    "  return classes[torch.argmax(output[0]).item()]"
   ]
  },
  {
   "cell_type": "code",
   "execution_count": 284,
   "metadata": {},
   "outputs": [],
   "source": [
    "batch = next(iter(test_loader))\n",
    "images, _ = batch\n",
    "background = images[:200]"
   ]
  },
  {
   "cell_type": "code",
   "execution_count": 286,
   "metadata": {},
   "outputs": [],
   "source": [
    "def explain_with_shap(model, image_path, index = -1):\n",
    "  image = prepare_image(image_path)\n",
    "  explainer = shap.DeepExplainer(model, background)\n",
    "  shap_values = explainer.shap_values(image, check_additivity = False)\n",
    "\n",
    "  if index == -1:\n",
    "    shap_numpy = [np.swapaxes(np.swapaxes(s, 1, -1), 1, 2) for s in shap_values]\n",
    "    test_numpy = np.swapaxes(np.swapaxes(image.numpy(), 1, -1), 1, 2)\n",
    "    labels = ['glejak', 'guz opon mózgowych', 'brak nowotworu', 'guz przysadki']\n",
    "    shap.image_plot(shap_numpy, test_numpy, labels) \n",
    "  else:\n",
    "    test_numpy = np.swapaxes(np.swapaxes(image.numpy(), 1, -1), 1, 2)\n",
    "    shap_values_for_class = shap_values[index]\n",
    "    shap_numpy_for_class = np.swapaxes(np.swapaxes(shap_values_for_class, 1, -1), 1, 2)\n",
    "    shap.image_plot(shap_numpy_for_class, test_numpy, show = False)"
   ]
  }
 ],
 "metadata": {
  "kernelspec": {
   "display_name": ".venv",
   "language": "python",
   "name": "python3"
  },
  "language_info": {
   "codemirror_mode": {
    "name": "ipython",
    "version": 3
   },
   "file_extension": ".py",
   "mimetype": "text/x-python",
   "name": "python",
   "nbconvert_exporter": "python",
   "pygments_lexer": "ipython3",
   "version": "3.11.5"
  },
  "orig_nbformat": 4
 },
 "nbformat": 4,
 "nbformat_minor": 2
}
